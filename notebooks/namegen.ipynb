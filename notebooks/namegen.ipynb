{
 "cells": [
  {
   "cell_type": "code",
   "execution_count": 1,
   "id": "august-perception",
   "metadata": {},
   "outputs": [],
   "source": [
    "%load_ext autoreload\n",
    "%autoreload 2"
   ]
  },
  {
   "cell_type": "code",
   "execution_count": 230,
   "id": "regulated-prediction",
   "metadata": {},
   "outputs": [],
   "source": [
    "import re\n",
    "from typing import Dict, List, Tuple, Set\n",
    "\n",
    "import torch\n",
    "import torch.optim as optim\n",
    "from allennlp.common.file_utils import cached_path\n",
    "from allennlp.common.util import START_SYMBOL, END_SYMBOL\n",
    "from allennlp.data import DataLoader\n",
    "from allennlp.data.fields import TextField\n",
    "from allennlp.data.instance import Instance\n",
    "from allennlp.data.token_indexers import TokenIndexer, SingleIdTokenIndexer\n",
    "from allennlp.data.tokenizers import Token, CharacterTokenizer\n",
    "from allennlp.data.vocabulary import Vocabulary, DEFAULT_PADDING_TOKEN\n",
    "from allennlp.models import Model\n",
    "from allennlp.modules.seq2seq_encoders import PytorchSeq2SeqWrapper\n",
    "from allennlp.modules.text_field_embedders import TextFieldEmbedder, BasicTextFieldEmbedder\n",
    "from allennlp.modules.token_embedders import Embedding\n",
    "from allennlp.nn.util import get_text_field_mask, sequence_cross_entropy_with_logits\n",
    "from allennlp.training.trainer import GradientDescentTrainer\n",
    "from allennlp.common.util import ensure_list\n",
    "from allennlp.data.data_loaders import MultiProcessDataLoader\n",
    "import torch.nn as nn"
   ]
  },
  {
   "cell_type": "code",
   "execution_count": 3,
   "id": "recreational-blues",
   "metadata": {},
   "outputs": [],
   "source": [
    "import sys\n",
    "sys.path.insert(0, '../')\n",
    "from readers.name_reader import NameReader"
   ]
  },
  {
   "cell_type": "code",
   "execution_count": 4,
   "id": "sustainable-miller",
   "metadata": {},
   "outputs": [],
   "source": [
    "reader = NameReader()\n",
    "instances = reader.read('../data/first_names.all.txt')\n",
    "instances = ensure_list(instances)"
   ]
  },
  {
   "cell_type": "code",
   "execution_count": 5,
   "id": "collectible-sending",
   "metadata": {},
   "outputs": [
    {
     "data": {
      "text/plain": [
       "{'tokens': <allennlp.data.fields.text_field.TextField at 0x159946500>}"
      ]
     },
     "execution_count": 5,
     "metadata": {},
     "output_type": "execute_result"
    }
   ],
   "source": [
    "instances[0].fields"
   ]
  },
  {
   "cell_type": "markdown",
   "id": "confirmed-change",
   "metadata": {},
   "source": [
    "# Modelling"
   ]
  },
  {
   "cell_type": "code",
   "execution_count": 231,
   "id": "governmental-determination",
   "metadata": {},
   "outputs": [],
   "source": [
    "class RNNLanguageModel(Model):\n",
    "    def __init__(self, \n",
    "                embedder: TextFieldEmbedder,\n",
    "                hidden_size: int,\n",
    "                max_len: int,\n",
    "                vocab: Vocabulary)->None:\n",
    "        super().__init__(vocab)\n",
    "        self.embedder = embedder\n",
    "        \n",
    "        self.rnn = PytorchSeq2SeqWrapper(\n",
    "            torch.nn.LSTM(EMBEDDING_SIZE, HIDDEN_SIZE, batch_first=True))\n",
    "        \n",
    "        self.hidden2out = torch.nn.Linear(in_features = self.rnn.get_output_dim(), out_features = vocab.get_vocab_size('tokens'))\n",
    "        \n",
    "        self.hidden_size = hidden_size\n",
    "        self.dropout = nn.Dropout(0.2)\n",
    "        self.max_len = max_len\n",
    "        \n",
    "\n",
    "    def forward(self,tokens):\n",
    "        mask = get_text_field_mask(tokens)\n",
    "\n",
    "        embeddings = self.embedder(tokens)\n",
    "        rnn_hidden = self.rnn(embeddings, mask)\n",
    "        rnn_hidden = self.dropout(rnn_hidden)\n",
    "        out_logits = self.hidden2out(rnn_hidden)\n",
    "\n",
    "        # get output tokens\n",
    "        token_ids = tokens['tokens']['tokens']\n",
    "        forward_targets = torch.zeros_like(token_ids)\n",
    "        forward_targets[:, 0:-1] = token_ids[:, 1:]\n",
    "            \n",
    "        loss = sequence_cross_entropy_with_logits(out_logits, forward_targets, mask)\n",
    "        \n",
    "        return {'loss': loss}\n",
    "    \n",
    "    def generate(self, initial_chars=None)-> Tuple[List[Token], torch.tensor]:\n",
    "        start_symbol_idx = self.vocab.get_token_index(START_SYMBOL, 'tokens')\n",
    "        end_symbol_idx = self.vocab.get_token_index(END_SYMBOL, 'tokens')\n",
    "        \n",
    "        padding_symbol_idx = self.vocab.get_token_index(DEFAULT_PADDING_TOKEN, 'tokens')\n",
    "        \n",
    "        log_likelihood = 0\n",
    "        words = []\n",
    "        \n",
    "        state = (torch.zeros(1, 1, self.hidden_size), torch.zeros(1, 1, self.hidden_size))\n",
    "\n",
    "        if initial_chars is not None:\n",
    "            int_chars = [self.vocab.get_token_index(c.text) for c in reader._tokenizer.tokenize(initial_chars)]\n",
    "            input_tokens = torch.tensor([int_chars[:-2]])\n",
    "            embeddings = self.embedder({'tokens': {\"tokens\": input_tokens}})\n",
    "            output, state = self.rnn._module(embeddings, state)\n",
    "            \n",
    "            words = list(initial_chars)\n",
    "            word_idx = int_chars[-2] # because last one is end of token\n",
    "\n",
    "        else:\n",
    "            word_idx = start_symbol_idx\n",
    "        \n",
    "        \n",
    "        for i in range(self.max_len):\n",
    "            tokens = torch.tensor([[word_idx]])\n",
    "            \n",
    "            embeddings = self.embedder({'tokens': {\"tokens\": tokens}})\n",
    "            output, state = self.rnn._module(embeddings, state)\n",
    "            output = self.hidden2out(output)\n",
    "\n",
    "            log_prob = torch.log_softmax(output[0, 0], dim=0)\n",
    "            \n",
    "            dist = torch.exp(log_prob)\n",
    "            \n",
    "            word_idx = start_symbol_idx\n",
    "\n",
    "            while word_idx in {start_symbol_idx, padding_symbol_idx}:\n",
    "                word_idx = torch.multinomial(\n",
    "                    dist, num_samples=1, replacement=False).item()\n",
    "                            \n",
    "            if word_idx in {end_symbol_idx}:\n",
    "                break\n",
    "                \n",
    "            token = Token(text=self.vocab.get_token_from_index(word_idx,'tokens'))\n",
    "            words.append(token.text)\n",
    "            \n",
    "        return ''.join(words), log_likelihood"
   ]
  },
  {
   "cell_type": "code",
   "execution_count": 232,
   "id": "competent-northwest",
   "metadata": {},
   "outputs": [],
   "source": [
    "# vocab = Vocabulary.from_instances(instances)\n",
    "\n"
   ]
  },
  {
   "cell_type": "code",
   "execution_count": 246,
   "id": "controlled-reporter",
   "metadata": {},
   "outputs": [
    {
     "data": {
      "application/vnd.jupyter.widget-view+json": {
       "model_id": "cade2f6d494147439ffa805dbeaf3612",
       "version_major": 2,
       "version_minor": 0
      },
      "text/plain": [
       "HBox(children=(FloatProgress(value=1.0, bar_style='info', description='loading instances', layout=Layout(width…"
      ]
     },
     "metadata": {},
     "output_type": "display_data"
    },
    {
     "name": "stderr",
     "output_type": "stream",
     "text": [
      "\n"
     ]
    }
   ],
   "source": [
    "EMBEDDING_SIZE = 32\n",
    "HIDDEN_SIZE = 256\n",
    "BATCH_SIZE = 16\n",
    "\n",
    "token_embedding = Embedding(num_embeddings=vocab.get_vocab_size('tokens'),\n",
    "                            embedding_dim=EMBEDDING_SIZE)\n",
    "embedder = BasicTextFieldEmbedder({\"tokens\": token_embedding})\n",
    "\n",
    "model = RNNLanguageModel(embedder=embedder,\n",
    "                         hidden_size=HIDDEN_SIZE,\n",
    "                         max_len=80,\n",
    "                         vocab=vocab)\n",
    "\n",
    "data_loader = MultiProcessDataLoader(reader,data_path=\"../data/first_names.all.txt\",batch_size=BATCH_SIZE)\n",
    "data_loader.index_with(vocab)\n",
    "optimizer = optim.Adam(model.parameters(), lr=0.2)\n",
    "\n",
    "\n",
    "trainer = GradientDescentTrainer(\n",
    "    model=model,\n",
    "    optimizer=optimizer,\n",
    "    data_loader=data_loader,\n",
    "    num_epochs=10)\n"
   ]
  },
  {
   "cell_type": "code",
   "execution_count": null,
   "id": "martial-wells",
   "metadata": {},
   "outputs": [],
   "source": [
    "from allennlp.commands.find_learning_rate import *\n",
    "\n",
    "def _smooth(values: List[float], beta: float) -> List[float]:\n",
    "    \"\"\" Exponential smoothing of values \"\"\"\n",
    "    avg_value = 0.0\n",
    "    smoothed = []\n",
    "    for i, value in enumerate(values):\n",
    "        avg_value = beta * avg_value + (1 - beta) * value\n",
    "        smoothed.append(avg_value / (1 - beta ** (i + 1)))\n",
    "    return smoothed"
   ]
  },
  {
   "cell_type": "code",
   "execution_count": 245,
   "id": "dedicated-sullivan",
   "metadata": {},
   "outputs": [
    {
     "data": {
      "application/vnd.jupyter.widget-view+json": {
       "model_id": "fbaf2d155b674847929215a4a6bdaf3d",
       "version_major": 2,
       "version_minor": 0
      },
      "text/plain": [
       "HBox(children=(FloatProgress(value=0.0), HTML(value='')))"
      ]
     },
     "metadata": {},
     "output_type": "display_data"
    },
    {
     "name": "stderr",
     "output_type": "stream",
     "text": [
      "\n"
     ]
    },
    {
     "data": {
      "text/plain": [
       "[<matplotlib.lines.Line2D at 0x195183c70>]"
      ]
     },
     "execution_count": 245,
     "metadata": {},
     "output_type": "execute_result"
    },
    {
     "data": {
      "image/png": "[encoded data removed]",
      "text/plain": [
       "<Figure size 432x288 with 1 Axes>"
      ]
     },
     "metadata": {
      "needs_background": "light"
     },
     "output_type": "display_data"
    }
   ],
   "source": [
    "learning_rates, losses = search_learning_rate(trainer,end_lr=1.0)\n",
    "losses = _smooth(losses, 0.98)\n",
    "plt.plot(learning_rates, losses)"
   ]
  },
  {
   "cell_type": "code",
   "execution_count": 247,
   "id": "explicit-religious",
   "metadata": {},
   "outputs": [
    {
     "name": "stderr",
     "output_type": "stream",
     "text": [
      "INFO:allennlp.training.trainer:Beginning training.\n",
      "INFO:allennlp.training.trainer:Epoch 0/9\n",
      "INFO:allennlp.training.trainer:Worker 0 memory usage: 2.0G\n",
      "INFO:allennlp.training.trainer:Training\n"
     ]
    },
    {
     "data": {
      "application/vnd.jupyter.widget-view+json": {
       "model_id": "54c865bfb73c45f994aed21bd07bd39c",
       "version_major": 2,
       "version_minor": 0
      },
      "text/plain": [
       "HBox(children=(FloatProgress(value=0.0, max=10279.0), HTML(value='')))"
      ]
     },
     "metadata": {},
     "output_type": "display_data"
    },
    {
     "name": "stderr",
     "output_type": "stream",
     "text": [
      "\n",
      "INFO:allennlp.training.callbacks.console_logger:                       Training |  Validation\n",
      "INFO:allennlp.training.callbacks.console_logger:loss               |     4.229  |       N/A\n",
      "INFO:allennlp.training.callbacks.console_logger:worker_0_memory_MB |  2011.953  |       N/A\n",
      "INFO:allennlp.training.trainer:Epoch duration: 0:03:25.164079\n",
      "INFO:allennlp.training.trainer:Estimated training time remaining: 0:30:46\n",
      "INFO:allennlp.training.trainer:Epoch 1/9\n",
      "INFO:allennlp.training.trainer:Worker 0 memory usage: 2.0G\n",
      "INFO:allennlp.training.trainer:Training\n"
     ]
    },
    {
     "data": {
      "application/vnd.jupyter.widget-view+json": {
       "model_id": "7eeee8d0d78e42f1846df59b809bb584",
       "version_major": 2,
       "version_minor": 0
      },
      "text/plain": [
       "HBox(children=(FloatProgress(value=0.0, max=10279.0), HTML(value='')))"
      ]
     },
     "metadata": {},
     "output_type": "display_data"
    },
    {
     "name": "stderr",
     "output_type": "stream",
     "text": [
      "\n",
      "INFO:allennlp.training.callbacks.console_logger:                       Training |  Validation\n",
      "INFO:allennlp.training.callbacks.console_logger:loss               |     3.227  |       N/A\n",
      "INFO:allennlp.training.callbacks.console_logger:worker_0_memory_MB |  2011.953  |       N/A\n",
      "INFO:allennlp.training.trainer:Epoch duration: 0:03:30.913043\n",
      "INFO:allennlp.training.trainer:Estimated training time remaining: 0:27:44\n",
      "INFO:allennlp.training.trainer:Epoch 2/9\n",
      "INFO:allennlp.training.trainer:Worker 0 memory usage: 2.0G\n",
      "INFO:allennlp.training.trainer:Training\n"
     ]
    },
    {
     "data": {
      "application/vnd.jupyter.widget-view+json": {
       "model_id": "ba49dabc43c6495e8fad228c5ef2ca77",
       "version_major": 2,
       "version_minor": 0
      },
      "text/plain": [
       "HBox(children=(FloatProgress(value=0.0, max=10279.0), HTML(value='')))"
      ]
     },
     "metadata": {},
     "output_type": "display_data"
    },
    {
     "name": "stderr",
     "output_type": "stream",
     "text": [
      "\n",
      "INFO:allennlp.training.callbacks.console_logger:                       Training |  Validation\n",
      "INFO:allennlp.training.callbacks.console_logger:loss               |     2.825  |       N/A\n",
      "INFO:allennlp.training.callbacks.console_logger:worker_0_memory_MB |  2011.953  |       N/A\n",
      "INFO:allennlp.training.trainer:Epoch duration: 0:03:22.982913\n",
      "INFO:allennlp.training.trainer:Estimated training time remaining: 0:24:04\n",
      "INFO:allennlp.training.trainer:Epoch 3/9\n",
      "INFO:allennlp.training.trainer:Worker 0 memory usage: 2.0G\n",
      "INFO:allennlp.training.trainer:Training\n"
     ]
    },
    {
     "data": {
      "application/vnd.jupyter.widget-view+json": {
       "model_id": "430f365411a44c788d7919e3de75e8e9",
       "version_major": 2,
       "version_minor": 0
      },
      "text/plain": [
       "HBox(children=(FloatProgress(value=0.0, max=10279.0), HTML(value='')))"
      ]
     },
     "metadata": {},
     "output_type": "display_data"
    },
    {
     "name": "stderr",
     "output_type": "stream",
     "text": [
      "\n",
      "INFO:allennlp.training.callbacks.console_logger:                       Training |  Validation\n",
      "INFO:allennlp.training.callbacks.console_logger:loss               |     2.932  |       N/A\n",
      "INFO:allennlp.training.callbacks.console_logger:worker_0_memory_MB |  2011.953  |       N/A\n",
      "INFO:allennlp.training.trainer:Epoch duration: 0:03:20.618250\n",
      "INFO:allennlp.training.trainer:Estimated training time remaining: 0:20:29\n",
      "INFO:allennlp.training.trainer:Epoch 4/9\n",
      "INFO:allennlp.training.trainer:Worker 0 memory usage: 2.0G\n",
      "INFO:allennlp.training.trainer:Training\n"
     ]
    },
    {
     "data": {
      "application/vnd.jupyter.widget-view+json": {
       "model_id": "4146e839e01140de84e12e4abd375de7",
       "version_major": 2,
       "version_minor": 0
      },
      "text/plain": [
       "HBox(children=(FloatProgress(value=0.0, max=10279.0), HTML(value='')))"
      ]
     },
     "metadata": {},
     "output_type": "display_data"
    },
    {
     "name": "stderr",
     "output_type": "stream",
     "text": [
      "\n",
      "INFO:allennlp.training.callbacks.console_logger:                       Training |  Validation\n",
      "INFO:allennlp.training.callbacks.console_logger:loss               |     2.813  |       N/A\n",
      "INFO:allennlp.training.callbacks.console_logger:worker_0_memory_MB |  2011.953  |       N/A\n",
      "INFO:allennlp.training.trainer:Epoch duration: 0:04:08.285796\n",
      "INFO:allennlp.training.trainer:Estimated training time remaining: 0:17:47\n",
      "INFO:allennlp.training.trainer:Epoch 5/9\n",
      "INFO:allennlp.training.trainer:Worker 0 memory usage: 2.0G\n",
      "INFO:allennlp.training.trainer:Training\n"
     ]
    },
    {
     "data": {
      "application/vnd.jupyter.widget-view+json": {
       "model_id": "3e17f6e4a7554afe953853a150c72251",
       "version_major": 2,
       "version_minor": 0
      },
      "text/plain": [
       "HBox(children=(FloatProgress(value=0.0, max=10279.0), HTML(value='')))"
      ]
     },
     "metadata": {},
     "output_type": "display_data"
    },
    {
     "name": "stderr",
     "output_type": "stream",
     "text": [
      "\n",
      "INFO:allennlp.training.callbacks.console_logger:                       Training |  Validation\n",
      "INFO:allennlp.training.callbacks.console_logger:loss               |     2.686  |       N/A\n",
      "INFO:allennlp.training.callbacks.console_logger:worker_0_memory_MB |  2011.953  |       N/A\n",
      "INFO:allennlp.training.trainer:Epoch duration: 0:03:53.962907\n",
      "INFO:allennlp.training.trainer:Estimated training time remaining: 0:14:27\n",
      "INFO:allennlp.training.trainer:Epoch 6/9\n",
      "INFO:allennlp.training.trainer:Worker 0 memory usage: 2.0G\n",
      "INFO:allennlp.training.trainer:Training\n"
     ]
    },
    {
     "data": {
      "application/vnd.jupyter.widget-view+json": {
       "model_id": "9c959822cebc466d94d67c17b1d42b21",
       "version_major": 2,
       "version_minor": 0
      },
      "text/plain": [
       "HBox(children=(FloatProgress(value=0.0, max=10279.0), HTML(value='')))"
      ]
     },
     "metadata": {},
     "output_type": "display_data"
    },
    {
     "name": "stderr",
     "output_type": "stream",
     "text": [
      "\n",
      "INFO:allennlp.training.callbacks.console_logger:                       Training |  Validation\n",
      "INFO:allennlp.training.callbacks.console_logger:loss               |     2.616  |       N/A\n",
      "INFO:allennlp.training.callbacks.console_logger:worker_0_memory_MB |  2011.953  |       N/A\n",
      "INFO:allennlp.training.trainer:Epoch duration: 0:03:51.353491\n",
      "INFO:allennlp.training.trainer:Estimated training time remaining: 0:10:57\n",
      "INFO:allennlp.training.trainer:Epoch 7/9\n",
      "INFO:allennlp.training.trainer:Worker 0 memory usage: 2.0G\n",
      "INFO:allennlp.training.trainer:Training\n"
     ]
    },
    {
     "data": {
      "application/vnd.jupyter.widget-view+json": {
       "model_id": "889d8bbc8cd747c3ab15203cfddadca8",
       "version_major": 2,
       "version_minor": 0
      },
      "text/plain": [
       "HBox(children=(FloatProgress(value=0.0, max=10279.0), HTML(value='')))"
      ]
     },
     "metadata": {},
     "output_type": "display_data"
    },
    {
     "name": "stderr",
     "output_type": "stream",
     "text": [
      "\n",
      "INFO:allennlp.training.callbacks.console_logger:                       Training |  Validation\n",
      "INFO:allennlp.training.callbacks.console_logger:loss               |     2.714  |       N/A\n",
      "INFO:allennlp.training.callbacks.console_logger:worker_0_memory_MB |  2011.953  |       N/A\n",
      "INFO:allennlp.training.trainer:Epoch duration: 0:04:11.185855\n",
      "INFO:allennlp.training.trainer:Estimated training time remaining: 0:07:26\n",
      "INFO:allennlp.training.trainer:Epoch 8/9\n",
      "INFO:allennlp.training.trainer:Worker 0 memory usage: 2.0G\n",
      "INFO:allennlp.training.trainer:Training\n"
     ]
    },
    {
     "data": {
      "application/vnd.jupyter.widget-view+json": {
       "model_id": "e0dbdb36d3814545a995c769024d1a26",
       "version_major": 2,
       "version_minor": 0
      },
      "text/plain": [
       "HBox(children=(FloatProgress(value=0.0, max=10279.0), HTML(value='')))"
      ]
     },
     "metadata": {},
     "output_type": "display_data"
    },
    {
     "name": "stderr",
     "output_type": "stream",
     "text": [
      "\n",
      "INFO:allennlp.training.callbacks.console_logger:                       Training |  Validation\n",
      "INFO:allennlp.training.callbacks.console_logger:loss               |     2.849  |       N/A\n",
      "INFO:allennlp.training.callbacks.console_logger:worker_0_memory_MB |  2011.953  |       N/A\n",
      "INFO:allennlp.training.trainer:Epoch duration: 0:04:26.263666\n",
      "INFO:allennlp.training.trainer:Estimated training time remaining: 0:03:47\n",
      "INFO:allennlp.training.trainer:Epoch 9/9\n",
      "INFO:allennlp.training.trainer:Worker 0 memory usage: 2.0G\n",
      "INFO:allennlp.training.trainer:Training\n"
     ]
    },
    {
     "data": {
      "application/vnd.jupyter.widget-view+json": {
       "model_id": "4090a9a51fcf4ce48d7849cf0b3e1202",
       "version_major": 2,
       "version_minor": 0
      },
      "text/plain": [
       "HBox(children=(FloatProgress(value=0.0, max=10279.0), HTML(value='')))"
      ]
     },
     "metadata": {},
     "output_type": "display_data"
    },
    {
     "name": "stderr",
     "output_type": "stream",
     "text": [
      "\n",
      "INFO:allennlp.training.callbacks.console_logger:                       Training |  Validation\n",
      "INFO:allennlp.training.callbacks.console_logger:loss               |     2.851  |       N/A\n",
      "INFO:allennlp.training.callbacks.console_logger:worker_0_memory_MB |  2011.953  |       N/A\n",
      "INFO:allennlp.training.trainer:Epoch duration: 0:04:10.160830\n"
     ]
    },
    {
     "data": {
      "text/plain": [
       "{'best_epoch': 9,\n",
       " 'peak_worker_0_memory_MB': 2011.953125,\n",
       " 'training_duration': '0:38:20.903685',\n",
       " 'training_start_epoch': 0,\n",
       " 'training_epochs': 9,\n",
       " 'epoch': 9,\n",
       " 'training_loss': 2.851349238234163,\n",
       " 'training_worker_0_memory_MB': 2011.953125}"
      ]
     },
     "execution_count": 247,
     "metadata": {},
     "output_type": "execute_result"
    }
   ],
   "source": [
    "\n",
    "trainer.train()"
   ]
  },
  {
   "cell_type": "code",
   "execution_count": 248,
   "id": "intended-country",
   "metadata": {},
   "outputs": [],
   "source": [
    "from allennlp.commands.find_learning_rate import *"
   ]
  },
  {
   "cell_type": "code",
   "execution_count": 249,
   "id": "reduced-cheat",
   "metadata": {},
   "outputs": [],
   "source": [
    "def predict(text: str, model: Model) -> float:\n",
    "    tokens = reader._tokenizer.tokenize(text)\n",
    "    instance = reader.text_to_instance(name=text, tokens=tokens)\n",
    "    \n",
    "    output = model.forward_on_instance(instance)\n",
    "    print(output)"
   ]
  },
  {
   "cell_type": "code",
   "execution_count": 250,
   "id": "compressed-moldova",
   "metadata": {},
   "outputs": [
    {
     "name": "stdout",
     "output_type": "stream",
     "text": [
      "{'loss': 4.3377275}\n"
     ]
    }
   ],
   "source": [
    "predict(\"chris\", model)"
   ]
  },
  {
   "cell_type": "code",
   "execution_count": 261,
   "id": "considered-analyst",
   "metadata": {},
   "outputs": [
    {
     "data": {
      "text/plain": [
       "('robživaaaaainaivaaaaaivovienaaaineaaaaaaivaaaaaaaaavaaanaaaaaieovaaaivovovovaivovov',\n",
       " 0)"
      ]
     },
     "execution_count": 261,
     "metadata": {},
     "output_type": "execute_result"
    }
   ],
   "source": [
    "model.generate(initial_chars='rob')"
   ]
  },
  {
   "cell_type": "code",
   "execution_count": 256,
   "id": "critical-entity",
   "metadata": {},
   "outputs": [
    {
     "name": "stdout",
     "output_type": "stream",
     "text": [
      "ef\n",
      "{'loss': 1.5731012}\n",
      "čaþelkaaeint\n",
      "{'loss': 2.1716044}\n",
      "şeinndun\n",
      "{'loss': 1.8158191}\n",
      "şeivomnnmnef\n",
      "{'loss': 1.6486176}\n",
      "čkşeivoivongülinkaaen\n",
      "{'loss': 1.7685046}\n",
      "č\n",
      "{'loss': 1.6958929}\n",
      "epeiva\n",
      "{'loss': 1.907753}\n",
      "leurat\n",
      "{'loss': 1.9192063}\n",
      "čpeitn\n",
      "{'loss': 1.6688434}\n",
      "čen\n",
      "{'loss': 1.7267568}\n"
     ]
    }
   ],
   "source": [
    "for _ in range(10):\n",
    "    name, _ =model.generate()\n",
    "    print(name)\n",
    "    predict(name, model)"
   ]
  },
  {
   "cell_type": "code",
   "execution_count": 145,
   "id": "awful-phoenix",
   "metadata": {},
   "outputs": [
    {
     "name": "stdout",
     "output_type": "stream",
     "text": [
      "{'loss': 2.627832}\n"
     ]
    }
   ],
   "source": [
    "predict(\"kristi\",model)"
   ]
  },
  {
   "cell_type": "code",
   "execution_count": null,
   "id": "known-scope",
   "metadata": {},
   "outputs": [],
   "source": []
  }
 ],
 "metadata": {
  "kernelspec": {
   "display_name": "Python 3",
   "language": "python",
   "name": "python3"
  },
  "language_info": {
   "codemirror_mode": {
    "name": "ipython",
    "version": 3
   },
   "file_extension": ".py",
   "mimetype": "text/x-python",
   "name": "python",
   "nbconvert_exporter": "python",
   "pygments_lexer": "ipython3",
   "version": "3.9.2"
  }
 },
 "nbformat": 4,
 "nbformat_minor": 5
}
